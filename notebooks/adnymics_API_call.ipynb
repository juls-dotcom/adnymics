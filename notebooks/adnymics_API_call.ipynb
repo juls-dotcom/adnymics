{
 "cells": [
  {
   "cell_type": "code",
   "execution_count": 1,
   "metadata": {
    "ExecuteTime": {
     "end_time": "2020-03-27T13:46:47.810516Z",
     "start_time": "2020-03-27T13:46:47.666478Z"
    }
   },
   "outputs": [],
   "source": [
    "%load_ext autoreload\n",
    "%autoreload 2\n",
    "\n",
    "import requests\n",
    "import pandas as pd\n",
    "import adnymics.munging_pipeline as munging\n",
    "import adnymics.write_to_disk as write_to_disk\n",
    "import os\n",
    "import pysftp\n",
    " \n",
    "start_date='16-03-2020'\n",
    "end_date='23-03-2020'\n",
    "start_time = 'T00:00:00'\n",
    "end_time = 'T00:00:00'\n",
    "path = 'd:\\\\Projects\\\\datasets\\\\adnymics'\n",
    "\n",
    "# Make API call to Chronos\n",
    "url = ('https://chronos.adnymics.com/v1/feedback/' \n",
    "    + str(pd.to_datetime(start_date, format='%d-%m-%Y').strftime('%Y-%m-%d'))\n",
    "    + str(start_time)\n",
    "    +'/'\n",
    "    + str(pd.to_datetime(end_date, format='%d-%m-%Y').strftime('%Y-%m-%d'))\n",
    "    + str(end_time))\n",
    "# Store response\n",
    "response = requests.get(url, auth=('OrsayInternational', '24WTWm7Z'))\n",
    "# Store resulting JSON\n",
    "data = response.json()\n",
    "# Store as dataframe\n",
    "df = pd.DataFrame(data['brochures'])\n",
    "\n",
    "# Munge data\n",
    "df_clean = (df\n",
    ".pipe(munging.extract_coupons)\n",
    ".pipe(munging.extract_item_number)\n",
    ".pipe(munging.drop_cols)\n",
    ".pipe(munging.split_data)\n",
    ")\n",
    "\n",
    "# Write to Disk\n",
    "# os.chdir('J:\\\\Group\\\\CRM\\\\14_aCRM\\\\04_ AD HOC\\\\WEEKLY FIGURES\\\\Adnymix\\\\exported_dat')\n",
    "os.chdir('D:\\\\')\n",
    "filename = (str(pd.to_datetime(start_date, format='%d-%m-%Y').strftime('%Y-%m-%d'))\n",
    "         + str(start_time).replace(':', '-')\n",
    "         +'__'\n",
    "         + str(pd.to_datetime(end_date, format='%d-%m-%Y').strftime('%Y-%m-%d'))\n",
    "         + str(end_time).replace(':', '-')\n",
    "         + '.xlsx')\n",
    "#write_to_disk.write_to_disk(df_clean, output.rstrip('.json').rstrip(os.getcwd()+'\\\\'))\n",
    "write_to_disk.write_to_disk(df_clean, filename)\n",
    "\n",
    "print('')\n",
    "print('DONE!')\n",
    "\n",
    "# Export to FTP server\n",
    "\n",
    "myHostname = \"ftp.s7.exacttarget.com\"\n",
    "myUsername = \"7275356\"\n",
    "myPassword = \"orsay2017#FTP\"\n",
    "\n",
    "remotepath = '/Export/Adnymics/'+ str(filename)\n",
    "localpath = 'd:/'\n",
    "print(localpath)\n",
    "cnopts = pysftp.CnOpts()\n",
    "cnopts.hostkeys = None\n",
    "\n",
    "with pysftp.Connection(host=myHostname, username=myUsername, password=myPassword, cnopts=cnopts) as sftp:\n",
    "    print(\"Connection succesfully established ... \")\n",
    "    with pysftp.cd(localpath):\n",
    "        sftp.put(localpath=localpath+filename, remotepath=remotepath)        \n",
    "sftp.close()"
   ]
  }
 ],
 "metadata": {
  "kernelspec": {
   "display_name": "adnymics",
   "language": "python",
   "name": "adnymics"
  },
  "language_info": {
   "codemirror_mode": {
    "name": "ipython",
    "version": 3
   },
   "file_extension": ".py",
   "mimetype": "text/x-python",
   "name": "python",
   "nbconvert_exporter": "python",
   "pygments_lexer": "ipython3",
   "version": "3.7.5"
  }
 },
 "nbformat": 4,
 "nbformat_minor": 2
}
