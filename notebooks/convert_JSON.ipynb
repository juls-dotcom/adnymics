{
 "cells": [
  {
   "cell_type": "code",
   "execution_count": 1,
   "metadata": {
    "ExecuteTime": {
     "end_time": "2020-01-08T12:54:17.793669Z",
     "start_time": "2020-01-08T12:54:15.011510Z"
    }
   },
   "outputs": [],
   "source": [
    "import os\n",
    "import pandas as pd"
   ]
  },
  {
   "cell_type": "code",
   "execution_count": 1,
   "metadata": {
    "collapsed": true
   },
   "outputs": [
    {
     "data": {
      "text/html": [
       "<div>\n",
       "<style scoped>\n",
       "    .dataframe tbody tr th:only-of-type {\n",
       "        vertical-align: middle;\n",
       "    }\n",
       "\n",
       "    .dataframe tbody tr th {\n",
       "        vertical-align: top;\n",
       "    }\n",
       "\n",
       "    .dataframe thead th {\n",
       "        text-align: right;\n",
       "    }\n",
       "</style>\n",
       "<table border=\"1\" class=\"dataframe\">\n",
       "  <thead>\n",
       "    <tr style=\"text-align: right;\">\n",
       "      <th></th>\n",
       "      <th>0</th>\n",
       "    </tr>\n",
       "  </thead>\n",
       "  <tbody>\n",
       "    <tr>\n",
       "      <th>segmentName</th>\n",
       "      <td>New_online_customers</td>\n",
       "    </tr>\n",
       "    <tr>\n",
       "      <th>productId</th>\n",
       "      <td>[1350185170000400, 5070550440000400, 178130660...</td>\n",
       "    </tr>\n",
       "    <tr>\n",
       "      <th>orderId</th>\n",
       "      <td>12008153882</td>\n",
       "    </tr>\n",
       "    <tr>\n",
       "      <th>language</th>\n",
       "      <td>de_DE</td>\n",
       "    </tr>\n",
       "    <tr>\n",
       "      <th>generate</th>\n",
       "      <td>TRUE</td>\n",
       "    </tr>\n",
       "    <tr>\n",
       "      <th>customerSurname</th>\n",
       "      <td>Pantelic</td>\n",
       "    </tr>\n",
       "    <tr>\n",
       "      <th>customerName</th>\n",
       "      <td>Natalija</td>\n",
       "    </tr>\n",
       "    <tr>\n",
       "      <th>customerId</th>\n",
       "      <td>4004131198</td>\n",
       "    </tr>\n",
       "    <tr>\n",
       "      <th>customerGender</th>\n",
       "      <td>2</td>\n",
       "    </tr>\n",
       "    <tr>\n",
       "      <th>customerEMail</th>\n",
       "      <td>milkica.pantelic@gmail.com</td>\n",
       "    </tr>\n",
       "    <tr>\n",
       "      <th>custDateOfBirth</th>\n",
       "      <td>26.09.1968</td>\n",
       "    </tr>\n",
       "    <tr>\n",
       "      <th>custAddrZip</th>\n",
       "      <td>68789</td>\n",
       "    </tr>\n",
       "    <tr>\n",
       "      <th>custAddrStreet</th>\n",
       "      <td>Kronauer Str. 26</td>\n",
       "    </tr>\n",
       "    <tr>\n",
       "      <th>custAddrCountry</th>\n",
       "      <td>DE</td>\n",
       "    </tr>\n",
       "    <tr>\n",
       "      <th>custAddrCity</th>\n",
       "      <td>Sankt Leon-Rot</td>\n",
       "    </tr>\n",
       "    <tr>\n",
       "      <th>couponValueBarcode</th>\n",
       "      <td>20.00</td>\n",
       "    </tr>\n",
       "    <tr>\n",
       "      <th>couponValue</th>\n",
       "      <td>20.00</td>\n",
       "    </tr>\n",
       "    <tr>\n",
       "      <th>couponValidityDateBarcode</th>\n",
       "      <td>29.02.2020</td>\n",
       "    </tr>\n",
       "    <tr>\n",
       "      <th>couponValidityDate</th>\n",
       "      <td>29.02.2020</td>\n",
       "    </tr>\n",
       "    <tr>\n",
       "      <th>couponUnitBarcode</th>\n",
       "      <td>percent</td>\n",
       "    </tr>\n",
       "    <tr>\n",
       "      <th>couponUnit</th>\n",
       "      <td>percent</td>\n",
       "    </tr>\n",
       "    <tr>\n",
       "      <th>couponStartDate</th>\n",
       "      <td>04.11.2019</td>\n",
       "    </tr>\n",
       "    <tr>\n",
       "      <th>couponCodeBarcode</th>\n",
       "      <td>022252304530021181</td>\n",
       "    </tr>\n",
       "    <tr>\n",
       "      <th>couponCode</th>\n",
       "      <td>21181</td>\n",
       "    </tr>\n",
       "  </tbody>\n",
       "</table>\n",
       "</div>"
      ],
      "text/plain": [
       "                                                                           0\n",
       "segmentName                                             New_online_customers\n",
       "productId                  [1350185170000400, 5070550440000400, 178130660...\n",
       "orderId                                                          12008153882\n",
       "language                                                               de_DE\n",
       "generate                                                                TRUE\n",
       "customerSurname                                                     Pantelic\n",
       "customerName                                                        Natalija\n",
       "customerId                                                        4004131198\n",
       "customerGender                                                             2\n",
       "customerEMail                                     milkica.pantelic@gmail.com\n",
       "custDateOfBirth                                                   26.09.1968\n",
       "custAddrZip                                                            68789\n",
       "custAddrStreet                                              Kronauer Str. 26\n",
       "custAddrCountry                                                           DE\n",
       "custAddrCity                                                  Sankt Leon-Rot\n",
       "couponValueBarcode                                                     20.00\n",
       "couponValue                                                            20.00\n",
       "couponValidityDateBarcode                                         29.02.2020\n",
       "couponValidityDate                                                29.02.2020\n",
       "couponUnitBarcode                                                    percent\n",
       "couponUnit                                                           percent\n",
       "couponStartDate                                                   04.11.2019\n",
       "couponCodeBarcode                                         022252304530021181\n",
       "couponCode                                                             21181"
      ]
     },
     "execution_count": 1,
     "metadata": {},
     "output_type": "execute_result"
    }
   ],
   "source": [
    "filename='example2'\n",
    "ext = '.txt'\n",
    "os.listdir()\n",
    "\n",
    "# Open a file: file\n",
    "file = open(filename+ext,mode='r')\n",
    "# read all lines at once\n",
    "DOI = file.read()\n",
    "# close the file\n",
    "file.close()\n",
    "\n",
    "# select DOI\n",
    "json_str = DOI[19:len(DOI)-104]\n",
    "json_str\n",
    "\n",
    "with open(filename+\".json\", \"w\") as text_file:\n",
    "    print(json_str, file=text_file)\n",
    "    \n",
    "test = pd.read_json(filename+'.json', typ='series')\n",
    "pd.DataFrame(test)"
   ]
  },
  {
   "cell_type": "code",
   "execution_count": 2,
   "metadata": {
    "ExecuteTime": {
     "end_time": "2020-01-08T12:56:29.091546Z",
     "start_time": "2020-01-08T12:54:17.793669Z"
    }
   },
   "outputs": [],
   "source": [
    "path = 'u:\\\\Projects\\\\datasets\\\\adnymics\\\\baptiste'\n",
    "os.chdir(path)\n",
    "\n",
    "# Baptiste's file is between 03-12-2019T00_00_00 & 08-12-2019_T_00_00\n",
    "filename='extractADO'\n",
    "ext = '.csv'\n",
    "os.listdir()\n",
    "\n",
    "df = pd.read_csv(filename+ext,error_bad_lines=False)\n",
    "# There are some empty entries, I simply drop them\n",
    "df = df.dropna()\n",
    "#df.shape\n",
    "\n",
    "df_clean = (df.assign(JSON_field = df['ADNYMICS_RESPONSE__C']\n",
    "                   .map(lambda x: x.lstrip('Request: Body______'))\n",
    "                     )          \n",
    "                   .assign(JSON_field = lambda d: d['JSON_field'].str.split('\\nResponse', expand=True))       \n",
    "              .drop(columns={'ADNYMICS_RESPONSE__C'})\n",
    "              .rename(columns={'CREATEDDATE': 'date'}))\n",
    "\n",
    "appended_data = []\n",
    "for i in range(1,df_clean.shape[0]):\n",
    "    data = pd.DataFrame(pd.read_json(df_clean['JSON_field'].iloc[i], typ='series')).T\n",
    "    # store DataFrame in list\n",
    "    appended_data.append(data)\n",
    "# see pd.concat documentation for more info\n",
    "appended_data = pd.concat(appended_data)"
   ]
  },
  {
   "cell_type": "code",
   "execution_count": 4,
   "metadata": {
    "ExecuteTime": {
     "end_time": "2020-01-08T12:57:01.663459Z",
     "start_time": "2020-01-08T12:57:01.647834Z"
    }
   },
   "outputs": [
    {
     "data": {
      "text/plain": [
       "Index(['segmentName', 'productId', 'orderId', 'language', 'generate',\n",
       "       'customerSurname', 'customerName', 'customerId', 'customerGender',\n",
       "       'customerEMail', 'custDateOfBirth', 'custAddrZip', 'custAddrStreet',\n",
       "       'custAddrCountry', 'custAddrCity', 'couponValueBarcode', 'couponValue',\n",
       "       'couponValidityDateBarcode', 'couponValidityDate', 'couponUnitBarcode',\n",
       "       'couponUnit', 'couponStartDate', 'couponCodeBarcode', 'couponCode'],\n",
       "      dtype='object')"
      ]
     },
     "execution_count": 4,
     "metadata": {},
     "output_type": "execute_result"
    }
   ],
   "source": [
    "appended_data.columns"
   ]
  },
  {
   "cell_type": "code",
   "execution_count": 29,
   "metadata": {},
   "outputs": [
    {
     "data": {
      "text/plain": [
       "segmentName                                         Top_customers\n",
       "productId                    [5071103150000400, 5071106920000400]\n",
       "orderId                                               12008237593\n",
       "language                                                    de_DE\n",
       "generate                                                     TRUE\n",
       "customerSurname                                         Kaczmarek\n",
       "customerName                                               Martha\n",
       "customerId                                              100657966\n",
       "customerGender                                                  2\n",
       "customerEMail                             martha.kaczmarek@gmx.de\n",
       "custDateOfBirth                                        13.04.1986\n",
       "custAddrZip                                                 44869\n",
       "custAddrStreet                                     Gerdes Feld 10\n",
       "custAddrCountry                                                DE\n",
       "custAddrCity                                               Bochum\n",
       "couponValueBarcode                                          20.00\n",
       "couponValue                                                 20.00\n",
       "couponValidityDateBarcode                              29.02.2020\n",
       "couponValidityDate                                     29.02.2020\n",
       "couponUnitBarcode                                         percent\n",
       "couponUnit                                                percent\n",
       "couponStartDate                                        04.11.2019\n",
       "couponCodeBarcode                              021220225690021183\n",
       "couponCode                                                  21183\n",
       "dtype: object"
      ]
     },
     "execution_count": 29,
     "metadata": {},
     "output_type": "execute_result"
    }
   ],
   "source": [
    "pd.read_json(df_clean['JSON_field'].iloc[0], typ='series')"
   ]
  }
 ],
 "metadata": {
  "kernelspec": {
   "display_name": "Python 3",
   "language": "python",
   "name": "python3"
  },
  "language_info": {
   "codemirror_mode": {
    "name": "ipython",
    "version": 3
   },
   "file_extension": ".py",
   "mimetype": "text/x-python",
   "name": "python",
   "nbconvert_exporter": "python",
   "pygments_lexer": "ipython3",
   "version": "3.7.5"
  }
 },
 "nbformat": 4,
 "nbformat_minor": 2
}
