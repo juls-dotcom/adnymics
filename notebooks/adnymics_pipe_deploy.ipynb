{
 "cells": [
  {
   "cell_type": "code",
   "execution_count": 1,
   "metadata": {
    "ExecuteTime": {
     "end_time": "2020-03-23T08:43:19.641969Z",
     "start_time": "2020-03-23T08:43:19.548037Z"
    }
   },
   "outputs": [],
   "source": [
    "%load_ext autoreload\n",
    "%autoreload 2"
   ]
  },
  {
   "cell_type": "code",
   "execution_count": 67,
   "metadata": {
    "ExecuteTime": {
     "end_time": "2020-03-27T13:44:00.842029Z",
     "start_time": "2020-03-27T13:44:00.838029Z"
    }
   },
   "outputs": [],
   "source": [
    "import requests\n",
    " \n",
    "start_date='16-03-2020'\n",
    "end_date='23-03-2020'\n",
    "start_time = 'T00_00_00'\n",
    "end_time = 'T00_00_00'\n",
    "path = 'd:\\\\Projects\\\\datasets\\\\adnymics'"
   ]
  },
  {
   "cell_type": "code",
   "execution_count": 69,
   "metadata": {
    "ExecuteTime": {
     "end_time": "2020-03-27T13:44:17.480664Z",
     "start_time": "2020-03-27T13:44:15.645432Z"
    }
   },
   "outputs": [],
   "source": [
    "import adnymics.munging_pipeline as munging\n",
    "import adnymics.def_dat as def_dat\n",
    "import adnymics.write_to_disk as write_to_disk\n",
    "import adnymics.import_dat as import_dat\n",
    "import os"
   ]
  },
  {
   "cell_type": "code",
   "execution_count": 70,
   "metadata": {
    "ExecuteTime": {
     "end_time": "2020-03-27T13:44:29.442913Z",
     "start_time": "2020-03-27T13:44:17.964779Z"
    }
   },
   "outputs": [
    {
     "name": "stdout",
     "output_type": "stream",
     "text": [
      "curr dir: d:\\Projects\\datasets\\adnymics\n",
      "d:\\Projects\\datasets\\adnymics\\2020-03-16T00_00_00__2020-03-23T00_00_00.json\n"
     ]
    }
   ],
   "source": [
    "# The data is manually imported from the Chronos server\n",
    "# eg https://chronos.adnymics.com/v1/feedback/2020-02-18T00:00:00/2020-02-20T00:00:00\n",
    "\n",
    "start_date='16-03-2020'\n",
    "end_date='23-03-2020'\n",
    "start_time = 'T00_00_00'\n",
    "end_time = 'T00_00_00'\n",
    "path = 'd:\\\\Projects\\\\datasets\\\\adnymics'\n",
    "\n",
    "# Define data to import\n",
    "output, filename = def_dat.def_dat(start_date = start_date,\n",
    "                                   end_date   = end_date, \n",
    "                                   start_time = start_time,\n",
    "                                   end_time   = end_time,\n",
    "                                   path       = path)\n",
    "print(output)\n",
    "\n",
    "# Import data\n",
    "df = import_dat.import_dat(output)\n",
    "\n",
    "# Munge data\n",
    "df_clean = (df\n",
    ".pipe(munging.extract_coupons)\n",
    ".pipe(munging.extract_item_number)\n",
    ".pipe(munging.drop_cols)\n",
    ".pipe(munging.split_data)\n",
    ")\n",
    "\n",
    "# Write to Disk\n",
    "# os.chdir('J:\\\\Group\\\\CRM\\\\14_aCRM\\\\04_ AD HOC\\\\WEEKLY FIGURES\\\\Adnymix\\\\exported_dat')\n",
    "os.chdir('D:\\\\')\n",
    "#write_to_disk.write_to_disk(df_clean, output.rstrip('.json').rstrip(os.getcwd()+'\\\\'))\n",
    "write_to_disk.write_to_disk(df_clean, '2020-03-16T00_00_00__2020-03-23T00_00_00.xlsx')\n",
    "\n",
    "print('')\n",
    "print('DONE!')"
   ]
  },
  {
   "cell_type": "code",
   "execution_count": null,
   "metadata": {},
   "outputs": [],
   "source": []
  }
 ],
 "metadata": {
  "kernelspec": {
   "display_name": "adnymics",
   "language": "python",
   "name": "adnymics"
  },
  "language_info": {
   "codemirror_mode": {
    "name": "ipython",
    "version": 3
   },
   "file_extension": ".py",
   "mimetype": "text/x-python",
   "name": "python",
   "nbconvert_exporter": "python",
   "pygments_lexer": "ipython3",
   "version": "3.7.5"
  }
 },
 "nbformat": 4,
 "nbformat_minor": 2
}
